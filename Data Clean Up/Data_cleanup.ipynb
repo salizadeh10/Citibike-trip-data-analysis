{
 "cells": [
  {
   "cell_type": "code",
   "execution_count": null,
   "metadata": {},
   "outputs": [],
   "source": [
    "# Dependencies\n",
    "import pandas as pd\n",
    "import os\n",
    "import math"
   ]
  },
  {
   "cell_type": "code",
   "execution_count": null,
   "metadata": {},
   "outputs": [],
   "source": [
    "# Create a list of all csv files to clean up\n",
    "path_name = '../Resources/'\n",
    "csv_file_list = []\n",
    "csv_file_list = os.listdir(path_name)\n",
    "csv_file_list"
   ]
  },
  {
   "cell_type": "raw",
   "metadata": {},
   "source": [
    "# Citi Bike Trip Histories. \n",
    "The data includes:\n",
    "\n",
    "Trip Duration (seconds)\n",
    "Start Time and Date\n",
    "Stop Time and Date\n",
    "Start Station Name\n",
    "End Station Name\n",
    "Station ID\n",
    "Station Lat/Long\n",
    "Bike ID\n",
    "User Type (Customer = 24-hour pass or 3-day pass user; Subscriber = Annual Member)\n",
    "Gender (Zero=unknown; 1=male; 2=female)\n",
    "Year of Birth"
   ]
  },
  {
   "cell_type": "code",
   "execution_count": null,
   "metadata": {},
   "outputs": [],
   "source": [
    "# csv files have same columns but different heaers.\n",
    "# Define the coulmn headers for the dataframe of csv contents\n",
    "new_column_headers = ['Trip Duration', 'Start Time', 'Stop Time', 'Start Station ID',\n",
    "                   'Start Station Name', 'Start Station Latitude',\n",
    "                   'Start Station Longitude', 'End Station ID', 'End Station Name',\n",
    "                   'End Station Latitude', 'End Station Longitude', 'Bike ID', 'User Type',\n",
    "                   'Birth Year', 'Gender']"
   ]
  },
  {
   "cell_type": "code",
   "execution_count": null,
   "metadata": {},
   "outputs": [],
   "source": [
    "# Define the empty dataframe with only column headers.\n",
    "raw_df  = pd.DataFrame(columns=new_column_headers)\n",
    "\n",
    "# Loop through the csv files and append to the row dataframe defined above. \n",
    "# At the end of the loop the row dataframe will contain the contents of all the csv files\n",
    "for file in csv_file_list:\n",
    "    \n",
    "    file_name = path_name + file\n",
    "    current_df = pd.read_csv(file_name, encoding=\"ISO-8859-1\")\n",
    "    current_df.columns = new_column_headers\n",
    "    print('current row count = ' + str(current_df.shape))\n",
    "    raw_df = raw_df.append(current_df)\n",
    "    print('final row count = ' + str(raw_df.shape))\n",
    "    \n",
    "    # Add Age column calculated using Birth Year and current year (2017)\n",
    "    raw_df['Age'] = 2017 - raw_df['Birth Year']\n",
    "    \n",
    "raw_df.head(50)"
   ]
  },
  {
   "cell_type": "code",
   "execution_count": null,
   "metadata": {},
   "outputs": [],
   "source": [
    "# Get the avreage age and Birth Year to populate the 'NaN' values it corresponding columns. \n",
    "avg_birth_year = math.ceil(raw_df['Birth Year'].mean())\n",
    "avg_age =  math.ceil(raw_df['Age'].mean())\n",
    "\n",
    "raw_df.loc[pd.isna(raw_df['Birth Year']), 'Birth Year'] = avg_birth_year\n",
    "raw_df.loc[pd.isna(raw_df['Age']), 'Age'] = avg_age"
   ]
  },
  {
   "cell_type": "code",
   "execution_count": null,
   "metadata": {},
   "outputs": [],
   "source": [
    "raw_df.head(50)"
   ]
  },
  {
   "cell_type": "code",
   "execution_count": null,
   "metadata": {},
   "outputs": [],
   "source": [
    "print(raw_df['Gender'].value_counts())"
   ]
  },
  {
   "cell_type": "code",
   "execution_count": null,
   "metadata": {},
   "outputs": [],
   "source": [
    "# Gender (Zero=unknown; 1=male; 2=female)\n",
    "gender_counts = raw_df['Gender'].value_counts().to_dict()\n",
    "row_count = raw_df.shape\n",
    "print(row_count[0])\n",
    "print(gender_counts)"
   ]
  },
  {
   "cell_type": "code",
   "execution_count": null,
   "metadata": {},
   "outputs": [],
   "source": [
    "# Determine the number of males, females and missing gender fields \n",
    "missing_genders = gender_counts[0]\n",
    "num_males = gender_counts[1]\n",
    "num_females = gender_counts[2]\n",
    "num_males_females = (num_males + num_females)\n",
    "\n",
    "# Determine ratio of males, and females excluding missing gender fields\n",
    "males_ratio = num_males / num_males_females\n",
    "females_ratio = num_females / num_males_females\n",
    "\n",
    "print(\"males = \" + str(num_males))\n",
    "print(\"females = \" + str(num_females))\n",
    "print(\"num missing gender = \" + str(missing_genders))\n",
    "print(\"males and females = \" + str(num_males_females))\n",
    "print(\"male ratio = \" + str(males_ratio))\n",
    "print(\"female ratio = \" + str(females_ratio))\n",
    "\n",
    "# Determime what ratio of the missing gender feilds should be set to male and female\n",
    "missing_males = math.ceil(missing_genders * males_ratio)\n",
    "missing_females =  math.ceil(missing_genders * females_ratio)\n",
    "\n",
    "print(\"male = \" + str(missing_males))\n",
    "print(\"female = \" + str(missing_females))\n",
    "print(\"total ratio = \" + str(missing_males + missing_females))\n"
   ]
  },
  {
   "cell_type": "code",
   "execution_count": null,
   "metadata": {},
   "outputs": [],
   "source": [
    "males_count = 0 \n",
    "    \n",
    "for idx, row in raw_df.iterrows():\n",
    "    \n",
    "    print('index = ' + str(idx))\n",
    "    print(\"gender before: \" + str(row['Gender']))\n",
    "    \n",
    "    if  row['Gender'] == 0 and males_count <= missing_males:\n",
    "        row['Gender'] = 1\n",
    "        males_count =+ 1\n",
    "    \n",
    "    if row['Gender'] == 0 and males_count > missing_males:\n",
    "        row['Gender'] = 2\n",
    "        \n",
    "    print(\"gender after: \" + str(row['Gender']))"
   ]
  },
  {
   "cell_type": "code",
   "execution_count": null,
   "metadata": {},
   "outputs": [],
   "source": [
    "raw_df.head(50)"
   ]
  },
  {
   "cell_type": "code",
   "execution_count": null,
   "metadata": {},
   "outputs": [],
   "source": [
    "males_count = 0 \n",
    "\n",
    "for idx, row in raw_df.iterrows():\n",
    "    \n",
    "    print('index = ' + str(idx))\n",
    "    print(\"gender before: \" + str(raw_df.loc[idx,'Gender']))\n",
    "    \n",
    "    if  raw_df.loc[idx,'Gender'] == 0 and males_count <= missing_males:\n",
    "        raw_df.loc[idx, 'Gender'] = 1\n",
    "        males_count =+ 1\n",
    "    \n",
    "    if raw_df.loc[idx, 'Gender'] == 0 and males_count > missing_males:\n",
    "        raw_df.loc[idx, 'Gender'] = 2\n",
    "        \n",
    "    print(\"gender after: \" + str(raw_df.loc[idx,'Gender']))"
   ]
  },
  {
   "cell_type": "code",
   "execution_count": null,
   "metadata": {},
   "outputs": [],
   "source": []
  },
  {
   "cell_type": "code",
   "execution_count": null,
   "metadata": {},
   "outputs": [],
   "source": [
    "bins = [0, 1, 2, 3]\n",
    "#bins = [1, 2, 3, 4]\n",
    "group_names = ['NaNs', 'Female', 'Male']"
   ]
  },
  {
   "cell_type": "code",
   "execution_count": null,
   "metadata": {},
   "outputs": [],
   "source": [
    "raw_df['temp_gender'] = pd.cut(raw_df['Gender'], bins, labels=group_names)\n",
    "raw_df.head(50)"
   ]
  },
  {
   "cell_type": "code",
   "execution_count": null,
   "metadata": {},
   "outputs": [],
   "source": [
    "# Define the empty dataframe with only column headers.\n",
    "raw_df  = pd.DataFrame(columns=new_column_headers)\n",
    "\n",
    "# Loop through the csv files and append to the row dataframe defined above. \n",
    "# At the end of the loop the row dataframe will contain the contents of all the csv files\n",
    "for file in csv_file_list:\n",
    "    \n",
    "    file_name = path_name + file\n",
    "    current_df = pd.read_csv(file_name, encoding=\"ISO-8859-1\")\n",
    "    current_df.columns = new_column_headers\n",
    "    print('current row count = ' + str(current_df.shape))\n",
    "    raw_df = raw_df.append(current_df)\n",
    "    print('final row count = ' + str(raw_df.shape))\n",
    "    \n",
    "    # Add Age column calculated using Birth Year and current year (2017)\n",
    "    raw_df['Age'] = 2017 - raw_df['Birth Year']\n",
    "    \n",
    "raw_df.head(50)"
   ]
  },
  {
   "cell_type": "code",
   "execution_count": null,
   "metadata": {},
   "outputs": [],
   "source": [
    "raw_df.to_csv('../Output/2017-citibike-tripdata.csv')"
   ]
  }
 ],
 "metadata": {
  "anaconda-cloud": {},
  "kernelspec": {
   "display_name": "Python [default]",
   "language": "python",
   "name": "python3"
  },
  "language_info": {
   "codemirror_mode": {
    "name": "ipython",
    "version": 3
   },
   "file_extension": ".py",
   "mimetype": "text/x-python",
   "name": "python",
   "nbconvert_exporter": "python",
   "pygments_lexer": "ipython3",
   "version": "3.6.6"
  }
 },
 "nbformat": 4,
 "nbformat_minor": 2
}
